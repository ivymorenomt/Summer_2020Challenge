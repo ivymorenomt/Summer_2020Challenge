{
 "cells": [
  {
   "cell_type": "markdown",
   "metadata": {},
   "source": [
    "# Chapter 6 - Data Sourcing via web\n",
    "\n",
    "### Segment 4 - Web Scraping\n",
    "\n",
    "Install beautifulsoup4 in conda\n",
    "- conda install -c anaconda beautifulsoup4"
   ]
  },
  {
   "cell_type": "code",
   "execution_count": 1,
   "metadata": {},
   "outputs": [
    {
     "name": "stdout",
     "output_type": "stream",
     "text": [
      "3.7.4 (default, Aug  9 2019, 18:34:13) [MSC v.1915 64 bit (AMD64)]\n"
     ]
    }
   ],
   "source": [
    "import sys\n",
    "print(sys.version)"
   ]
  },
  {
   "cell_type": "code",
   "execution_count": 7,
   "metadata": {},
   "outputs": [],
   "source": [
    "from bs4 import BeautifulSoup\n",
    "import urllib.request\n",
    "from IPython.display import HTML\n",
    "import re"
   ]
  },
  {
   "cell_type": "markdown",
   "metadata": {},
   "source": [
    "### BeautifuSoup objects"
   ]
  },
  {
   "cell_type": "code",
   "execution_count": 8,
   "metadata": {},
   "outputs": [
    {
     "data": {
      "text/plain": [
       "bs4.BeautifulSoup"
      ]
     },
     "execution_count": 8,
     "metadata": {},
     "output_type": "execute_result"
    }
   ],
   "source": [
    "r = urllib.request.urlopen('https://analytics.usa.gov/').read()\n",
    "soup = BeautifulSoup(r, 'lxml')\n",
    "type(soup)"
   ]
  },
  {
   "cell_type": "code",
   "execution_count": 10,
   "metadata": {},
   "outputs": [
    {
     "name": "stdout",
     "output_type": "stream",
     "text": [
      "<!DOCTYPE html>\n",
      "<html lang=\"en\">\n",
      " <!-- Initalize title and data source variables -->\n",
      " <head>\n",
      "  <!--\n",
      "\n"
     ]
    }
   ],
   "source": [
    "print(soup.prettify()[:100])"
   ]
  },
  {
   "cell_type": "code",
   "execution_count": 11,
   "metadata": {},
   "outputs": [
    {
     "name": "stdout",
     "output_type": "stream",
     "text": [
      "/\n",
      "#explanation\n",
      "https://analytics.usa.gov/data/\n",
      "https://open.gsa.gov/api/dap/\n",
      "data/\n",
      "#top-pages-realtime\n",
      "#top-pages-7-days\n",
      "#top-pages-30-days\n",
      "https://analytics.usa.gov/data/live/all-pages-realtime.csv\n",
      "https://analytics.usa.gov/data/live/all-domains-30-days.csv\n",
      "https://www.digitalgov.gov/services/dap/\n",
      "https://www.digitalgov.gov/services/dap/common-questions-about-dap-faq/#part-4\n",
      "https://support.google.com/analytics/answer/2763052?hl=en\n",
      "https://analytics.usa.gov/data/live/second-level-domains.csv\n",
      "https://analytics.usa.gov/data/live/sites.csv\n",
      "mailto:DAP@support.digitalgov.gov\n",
      "https://analytics.usa.gov/data/\n",
      "https://open.gsa.gov/api/dap/\n",
      "mailto:DAP@support.digitalgov.gov\n",
      "https://github.com/GSA/analytics.usa.gov/issues\n",
      "https://github.com/GSA/analytics.usa.gov\n",
      "https://github.com/18F/analytics-reporter\n",
      "http://www.gsa.gov/\n",
      "https://www.digitalgov.gov/services/dap/\n",
      "https://cloud.gov/\n"
     ]
    }
   ],
   "source": [
    "for link in soup.find_all('a'):\n",
    "    print(link.get('href'))"
   ]
  },
  {
   "cell_type": "code",
   "execution_count": 12,
   "metadata": {},
   "outputs": [
    {
     "name": "stdout",
     "output_type": "stream",
     "text": [
      "\n",
      "\n",
      "\n",
      "\n",
      "\n",
      "\n",
      "\n",
      "\n",
      "\n",
      "\n",
      "\n",
      "\n",
      "\n",
      "\n",
      "\n",
      "analytics.usa.gov | The US government's web traffic.\n",
      "\n",
      "\n",
      "\n",
      "\n",
      "\n",
      "\n",
      "\n",
      "(function(w,d,s,l,i){w[l]=w[l]||[];w[l].push({'gtm.start':\n",
      "    new Date().getTime(),event:'gtm.js'});var f=d.getElementsByTagName(s)[0],\n",
      "    j=d.createElement(s),dl=l!='dataLayer'?'&l='+l:'';j.async=true;j.src=\n",
      "    'https://www.googletagmanager.com/gtm.js?id='+i+dl;f.parentNode.insertBefore(j,f);\n",
      "    })(window,document,'script','dataLayer','GTM-MQSGZS');\n",
      "\n",
      "\n",
      "    (function(i,s,o,g,r,a,m){i['GoogleAnalyticsObject']=r;i[r]=i[r]||function(){\n",
      "  (i[r].q=i[r].q||[]).push(arguments)},i[r].l=1*new Date();a=s.createElement(o),\n",
      "  m=s.getElementsByTagName(o)[0];a.async=1;a.src=g;m.parentNode.insertBefore(a,m)\n",
      "  })(window,document,'script','https://www.google-analytics.com/analytics.js','ga');\n",
      "\n",
      "    ga('create', 'UA-48605964-36', 'auto');\n",
      "    ga('set', 'anonymizeIp', true);\n",
      "    ga('set', 'forceSSL', true);\n",
      "    ga('send', 'pageview');\n",
      "\n",
      "  \n",
      "\n",
      "\n",
      "\n",
      "\n",
      "\n",
      "\n",
      "\n",
      "\n",
      "\n",
      "\n",
      "\n",
      "\n",
      "analytics.usa.gov\n",
      "              \n",
      "\n",
      "\n",
      "About this site\n",
      "Data | API\n",
      "\n",
      "\n",
      "\n",
      "Select an agency\n",
      "\n",
      "All Participating Websites\n",
      "Agency for International Development\n",
      "Department of Agriculture\n",
      "Department of Commerce\n",
      "Department of Defense\n",
      "Department of Education\n",
      "Department of Energy\n",
      "Department of Health and Human Services\n",
      "Department of Homeland Security\n",
      "Department of Housing and Urban Development\n",
      "Department of Justice\n",
      "Department of Labor\n",
      "Department of State\n",
      "Department of Transportation\n",
      "Department of Veterans Affairs\n",
      "Department of the Interior\n",
      "Department of the Treasury\n",
      "Environmental Protection Agency\n",
      "Executive Office of the President\n",
      "General Services Administration\n",
      "National Aeronautics and Space Administration\n",
      "National Archives and Records Administration\n",
      "National Science Foundation\n",
      "Nuclear Regulatory Commission\n",
      "Office of Personnel Management\n",
      "Postal Service\n",
      "Small Business Administration\n",
      "Social Security Administration\n",
      "\n",
      "\n",
      "\n",
      "\n",
      "\n",
      "\n",
      "\n",
      "\n",
      "\n",
      "...\n",
      "people on government websites now\n",
      "\n",
      "\n",
      "Visits Today\n",
      "Eastern Time\n",
      "\n",
      "\n",
      "\n",
      "\n",
      "\n",
      "\n",
      "Visits in the Past 90 Days\n",
      "\n",
      "\n",
      "          There were ... visits over the past 90 days.\n",
      "        \n",
      "\n",
      "Devices\n",
      "\n",
      "\n",
      "\n",
      "\n",
      "\n",
      "            Based on rough network segmentation data, we estimate that less than 5% of all traffic across all agencies comes from US federal government networks.\n",
      "          \n",
      "\n",
      "            Much more detailed data is available in downloadable CSV and JSON. This includes data on combined browser and OS usage.\n",
      "          \n",
      "\n",
      "\n",
      "Browsers\n",
      "\n",
      "\n",
      "\n",
      "\n",
      "\n",
      "Internet Explorer\n",
      "\n",
      "\n",
      "\n",
      "\n",
      "\n",
      "Operating Systems\n",
      "\n",
      "\n",
      "\n",
      "\n",
      "\n",
      "Windows\n",
      "\n",
      "\n",
      "\n",
      "\n",
      "\n",
      "\n",
      "\n",
      "Visitor Locations Right Now\n",
      "\n",
      "\n",
      "Cities\n",
      "\n",
      "\n",
      "\n",
      "\n",
      "\n",
      "\n",
      "Countries\n",
      "\n",
      "\n",
      "\n",
      "\n",
      "\n",
      "International & Territories\n",
      "\n",
      "\n",
      "\n",
      "\n",
      "\n",
      "\n",
      "\n",
      "\n",
      "Top Pages\n",
      "\n",
      "Now\n",
      "7 Days\n",
      "30 Days\n",
      "\n",
      "\n",
      "\n",
      "              People on a single, specific page now. We only count pages with at least 10 people on the page.\n",
      "              Download the full dataset.\n",
      "\n",
      "\n",
      "\n",
      "\n",
      "\n",
      "Visits over the last week to domains, including traffic to all pages within that domain.\n",
      "\n",
      "\n",
      "\n",
      "\n",
      "\n",
      "              Visits over the last month to domains, including traffic to all pages within that domain. We only count pages with at least 1,000 visits in the last month.\n",
      "              Download the full dataset.\n",
      "\n",
      "\n",
      "\n",
      "\n",
      "\n",
      "\n",
      "Top Downloads\n",
      "Total file downloads yesterday on government domains.\n",
      "\n",
      "\n",
      "\n",
      "\n",
      "\n",
      "\n",
      "\n",
      "\n",
      "About this Site\n",
      "\n",
      "            This data provides a window into how people are interacting with the government online.\n",
      "             The data comes from a unified Google Analytics account for U.S. federal government agencies known as the Digital Analytics Program.\n",
      "              This program helps government agencies understand how people find, access, and use government services online. The program does not track individuals,\n",
      "               and anonymizes the IP addresses of visitors.\n",
      "          \n",
      "\n",
      "            Not every government website is represented in this data. \n",
      "            Currently, the Digital Analytics Program collects web traffic from around 400 executive branch government domains,\n",
      "             across about 5,700 total websites,\n",
      "              including every cabinet department.\n",
      "               We continue to pursue and add more sites frequently; to add your site, email the Digital Analytics Program.\n",
      "          \n",
      "\n",
      "\n",
      "Download the data\n",
      "You can download the data here. Available in JSON and CSV format.\n",
      " Additionally, you can access data via our  API project (currently in Beta).\n",
      "A note on sampling\n",
      "Due to varying Google Analytics API sampling thresholds and the sheer volume of data in this project, some non-realtime reports may be subject to sampling. \n",
      "             The data are intended to represent trends and numbers may not be precise.\n",
      "\n",
      "\n",
      "\n",
      "\n",
      "\n",
      "\n",
      "Have a question or problem? \n",
      "              \n",
      "              Get in touch.\n",
      "              \n",
      "\n",
      "\n",
      "                  Suggest a feature or report an issue\n",
      "            \n",
      "\n",
      "\n",
      "\n",
      "\n",
      "              View our code on GitHub\n",
      "\n",
      "\n",
      "              View our code for the data on GitHub\n",
      "\n",
      "\n",
      "\n",
      "\n",
      "\n",
      "\n",
      "\n",
      "\n",
      "\n",
      "\n",
      "Analytics.usa.gov is a project of GSA’s Digital Analytics Program.\n",
      "This website is hosted on cloud.gov.\n",
      "\n",
      "\n",
      "\n",
      "\n",
      "\n",
      "window._ie9 = false;\n",
      "\n",
      "\n",
      "\n",
      "    window._ie10 = (\"onpropertychange\" in document && !!window.matchMedia);\n",
      "    window._ie11 = !!navigator.userAgent.match(/Trident\\/7.0; rv 11/);\n",
      "    window._ie = window._ie9 || window._ie10 || window._ie11;\n",
      "  \n",
      "\n",
      "\n",
      "\n"
     ]
    }
   ],
   "source": [
    "print(soup.get_text())"
   ]
  },
  {
   "cell_type": "code",
   "execution_count": 13,
   "metadata": {},
   "outputs": [
    {
     "name": "stdout",
     "output_type": "stream",
     "text": [
      "<!DOCTYPE html>\n",
      "<html lang=\"en\">\n",
      " <!-- Initalize title and data source variables -->\n",
      " <head>\n",
      "  <!--\n",
      "\n",
      "    Hi! Welcome to our source code.\n",
      "\n",
      "    This dashboard uses data from the Digital Analytics Program, a US\n",
      "    government team inside the General Services Administration.\n",
      "\n",
      "\n",
      "    For a detailed tech breakdown of how 18F and friends built this site:\n",
      "\n",
      "    https://18f.gsa.gov/2015/03/19/how-we-built-analytics-usa-gov/\n",
      "\n",
      "\n",
      "    This is a fully open source project, and your contributions are welcome.\n",
      "\n",
      "    Frontend static site: https://github.com/18F/analytics.usa.gov\n",
      "    Backend data reporting: https://github.com/18F/analytics-reporter\n",
      "\n",
      "    -->\n",
      "  <meta charset=\"utf-8\"/>\n",
      "  <meta content=\"IE=Edge\" http-equiv=\"X-UA-Compatible\"/>\n",
      "  <meta content=\"NjbZn6hQe7OwV-nTsa6nLmtrOUcSGPRyFjxm5zkmCcg\" name=\"google-site-verification\"/>\n",
      "  <link href=\"/css/vendor/css/uswds.v0.9.6.css\" rel=\"stylesheet\"/>\n",
      "  <link href=\"/css/public_analytics.css\" rel=\"stylesheet\"/>\n",
      "  <link href=\"/images/analytics-favicon.ico\" rel=\"ic\n"
     ]
    }
   ],
   "source": [
    "print(soup.prettify()[0:1000])"
   ]
  },
  {
   "cell_type": "code",
   "execution_count": 20,
   "metadata": {},
   "outputs": [
    {
     "name": "stdout",
     "output_type": "stream",
     "text": [
      "<a href=\"https://analytics.usa.gov/data/\">Data</a>\n",
      "<a href=\"https://open.gsa.gov/api/dap/\" target=\"_blank\">API</a>\n",
      "<a href=\"https://analytics.usa.gov/data/live/all-pages-realtime.csv\">Download the full dataset.</a>\n",
      "<a href=\"https://analytics.usa.gov/data/live/all-domains-30-days.csv\">Download the full dataset.</a>\n",
      "<a class=\"external-link\" href=\"https://www.digitalgov.gov/services/dap/\">Digital Analytics Program</a>\n",
      "<a class=\"external-link\" href=\"https://www.digitalgov.gov/services/dap/common-questions-about-dap-faq/#part-4\">does not track individuals</a>\n",
      "<a class=\"external-link\" href=\"https://support.google.com/analytics/answer/2763052?hl=en\">anonymizes the IP addresses</a>\n",
      "<a class=\"external-link\" href=\"https://analytics.usa.gov/data/live/second-level-domains.csv\">400 executive branch government domains</a>\n",
      "<a class=\"external-link\" href=\"https://analytics.usa.gov/data/live/sites.csv\">about 5,700 total websites</a>\n",
      "<a href=\"https://analytics.usa.gov/data/\">download the data here.</a>\n",
      "<a href=\"https://open.gsa.gov/api/dap/\" target=\"_blank\"> API project</a>\n",
      "<a class=\"usa-button usa-button-secondary-inverse\" href=\"https://github.com/GSA/analytics.usa.gov/issues\">\n",
      "<img alt=\"Github Icon\" class=\"github-icon\" src=\"/images/github-logo-white.svg\"/>\n",
      "                  Suggest a feature or report an issue\n",
      "            </a>\n",
      "<a href=\"https://github.com/GSA/analytics.usa.gov\">\n",
      "<img alt=\"Github Icon\" class=\"github-icon\" src=\"/images/github-logo.svg\"/>\n",
      "              View our code on GitHub</a>\n",
      "<a href=\"https://github.com/18F/analytics-reporter\">\n",
      "<img alt=\"Github Icon\" class=\"github-icon\" src=\"/images/github-logo.svg\"/>\n",
      "              View our code for the data on GitHub</a>\n",
      "<a href=\"http://www.gsa.gov/\">\n",
      "<img alt=\"GSA\" src=\"/images/gsa-logo.svg\"/>\n",
      "</a>\n",
      "<a href=\"https://www.digitalgov.gov/services/dap/\">Digital Analytics Program</a>\n",
      "<a href=\"https://cloud.gov/\">cloud.gov</a>\n"
     ]
    }
   ],
   "source": [
    "for x in soup.findAll('a', attrs={'href': re.compile('^http')}):\n",
    "    print(x)"
   ]
  },
  {
   "cell_type": "code",
   "execution_count": 22,
   "metadata": {},
   "outputs": [
    {
     "name": "stdout",
     "output_type": "stream",
     "text": [
      "<a href=\"https://analytics.usa.gov/data/\">Data</a>\n",
      "<a href=\"https://open.gsa.gov/api/dap/\" target=\"_blank\">API</a>\n",
      "<a href=\"https://analytics.usa.gov/data/live/all-pages-realtime.csv\">Download the full dataset.</a>\n",
      "<a href=\"https://analytics.usa.gov/data/live/all-domains-30-days.csv\">Download the full dataset.</a>\n",
      "<a class=\"external-link\" href=\"https://www.digitalgov.gov/services/dap/\">Digital Analytics Program</a>\n",
      "<a class=\"external-link\" href=\"https://www.digitalgov.gov/services/dap/common-questions-about-dap-faq/#part-4\">does not track individuals</a>\n",
      "<a class=\"external-link\" href=\"https://support.google.com/analytics/answer/2763052?hl=en\">anonymizes the IP addresses</a>\n",
      "<a class=\"external-link\" href=\"https://analytics.usa.gov/data/live/second-level-domains.csv\">400 executive branch government domains</a>\n",
      "<a class=\"external-link\" href=\"https://analytics.usa.gov/data/live/sites.csv\">about 5,700 total websites</a>\n",
      "<a href=\"https://analytics.usa.gov/data/\">download the data here.</a>\n",
      "<a href=\"https://open.gsa.gov/api/dap/\" target=\"_blank\"> API project</a>\n",
      "<a class=\"usa-button usa-button-secondary-inverse\" href=\"https://github.com/GSA/analytics.usa.gov/issues\">\n",
      "<img alt=\"Github Icon\" class=\"github-icon\" src=\"/images/github-logo-white.svg\"/>\n",
      "                  Suggest a feature or report an issue\n",
      "            </a>\n",
      "<a href=\"https://github.com/GSA/analytics.usa.gov\">\n",
      "<img alt=\"Github Icon\" class=\"github-icon\" src=\"/images/github-logo.svg\"/>\n",
      "              View our code on GitHub</a>\n",
      "<a href=\"https://github.com/18F/analytics-reporter\">\n",
      "<img alt=\"Github Icon\" class=\"github-icon\" src=\"/images/github-logo.svg\"/>\n",
      "              View our code for the data on GitHub</a>\n",
      "<a href=\"http://www.gsa.gov/\">\n",
      "<img alt=\"GSA\" src=\"/images/gsa-logo.svg\"/>\n",
      "</a>\n",
      "<a href=\"https://www.digitalgov.gov/services/dap/\">Digital Analytics Program</a>\n",
      "<a href=\"https://cloud.gov/\">cloud.gov</a>\n"
     ]
    },
    {
     "data": {
      "text/plain": [
       "'C:\\\\Users\\\\marjo\\\\PycharmProjects\\\\Summer_2020_Challenge\\\\PythonDataVisualization'"
      ]
     },
     "execution_count": 22,
     "metadata": {},
     "output_type": "execute_result"
    }
   ],
   "source": [
    "file = open('parsed_data2.txt', 'w') #write in the text file\n",
    "for link in soup.findAll('a', attrs={'href': re.compile('^http')}):\n",
    "    soup_link = str(link)\n",
    "    print(soup_link)\n",
    "    file.write(soup_link)\n",
    "file.flush()\n",
    "file.close()\n",
    "\n",
    "%pwd"
   ]
  },
  {
   "cell_type": "markdown",
   "metadata": {},
   "source": [
    "## Introduction to NLP\n",
    "\n",
    "### Sentence Tokenization\n",
    "\n",
    "it is the process of breaking down paragraphs or a complete set of text into sentences.\n",
    "\n",
    "### Word Tokenization\n",
    "process of breaking down a paragraph, a sentence or a complete text corpus into an array of words\n",
    "\n",
    "### Stop words\n",
    "it is extremely common (thus general) words that add little to little meaning to a body of text at large\n",
    "\n",
    "Stop words can be thought of as a noise in the corpus of a body of text (ex: they'd)\n",
    "\n",
    "we will be using the natural language toolkit. it has its own stop words\n",
    "\n",
    "Stemming\n",
    "- process for reducing the size of the corpus by converting words to their root word It is a process of word normalization\n",
    "\n",
    "- stems are simply parts of words\n",
    "ex: run, running, ran - root word is run\n",
    "\n",
    "root word vs base word\n",
    "root word is a stem word that may or may not have meaning when taken alone\n",
    "A root word from which other words are derived\n",
    "the primary form of a word upon which derivates are made\n",
    "\n",
    "base word is a stem word that has meaning when taken alone\n",
    "it is a base word that is used outright within a language with only prefixes or suffixes being attached\n",
    "\n",
    "#### Lemmatizing\n",
    "- process of reducing a word to its base word\n",
    "ex: better - base word - good\n",
    "\n",
    "Part of speech tagging - process of identifying a part of speech within a given body of text\n",
    "ex: 'Everything is all about resources' \n",
    "tagged output: NN(noun, singular), VBZ(verb, third person), IN, NNS\n",
    "\n",
    "#### Frequency distribution plotting\n",
    "- it counts plots the frequency of words in a given text\n",
    "- this can be used for sentiment analysis and to understand the distribution of words\n",
    "\n",
    "### Segment 5- Intro to NLP\n",
    "\n",
    "conda install -c anaconda nltk\n"
   ]
  },
  {
   "cell_type": "code",
   "execution_count": 23,
   "metadata": {},
   "outputs": [],
   "source": [
    "import nltk"
   ]
  },
  {
   "cell_type": "code",
   "execution_count": 24,
   "metadata": {},
   "outputs": [],
   "source": [
    "text = 'This is a hard problem, and we will continue to make change and actively seek ways to take meaningful action. The Diversity and Inclusion Council’s role is to serve as a convener and focal point for these issues within ACM and to serve as a resource for those seeking to effect positive change; the D&I Council does not set policy.'"
   ]
  },
  {
   "cell_type": "code",
   "execution_count": 26,
   "metadata": {},
   "outputs": [
    {
     "name": "stderr",
     "output_type": "stream",
     "text": [
      "[nltk_data] Downloading package punkt to\n",
      "[nltk_data]     C:\\Users\\marjo\\AppData\\Roaming\\nltk_data...\n",
      "[nltk_data]   Unzipping tokenizers\\punkt.zip.\n"
     ]
    },
    {
     "data": {
      "text/plain": [
       "True"
      ]
     },
     "execution_count": 26,
     "metadata": {},
     "output_type": "execute_result"
    }
   ],
   "source": [
    "nltk.download('punkt')"
   ]
  },
  {
   "cell_type": "markdown",
   "metadata": {},
   "source": [
    "#### Sentence Tokenizer"
   ]
  },
  {
   "cell_type": "code",
   "execution_count": 27,
   "metadata": {},
   "outputs": [
    {
     "name": "stdout",
     "output_type": "stream",
     "text": [
      "Sentence Tokenizing the text: \n",
      "\n",
      "['This is a hard problem, and we will continue to make change and actively seek ways to take meaningful action.', 'The Diversity and Inclusion Council’s role is to serve as a convener and focal point for these issues within ACM and to serve as a resource for those seeking to effect positive change; the D&I Council does not set policy.']\n"
     ]
    }
   ],
   "source": [
    "from nltk.tokenize import sent_tokenize\n",
    "sent_tk = sent_tokenize(text)\n",
    "print('Sentence Tokenizing the text: \\n')\n",
    "print(sent_tk)\n",
    "\n",
    "# it will be broken into different tokens"
   ]
  },
  {
   "cell_type": "markdown",
   "metadata": {},
   "source": [
    "#### Word Tokenizer"
   ]
  },
  {
   "cell_type": "code",
   "execution_count": 28,
   "metadata": {},
   "outputs": [
    {
     "name": "stdout",
     "output_type": "stream",
     "text": [
      "Word Tokenizing the text: \n",
      "\n",
      "['This', 'is', 'a', 'hard', 'problem', ',', 'and', 'we', 'will', 'continue', 'to', 'make', 'change', 'and', 'actively', 'seek', 'ways', 'to', 'take', 'meaningful', 'action', '.', 'The', 'Diversity', 'and', 'Inclusion', 'Council', '’', 's', 'role', 'is', 'to', 'serve', 'as', 'a', 'convener', 'and', 'focal', 'point', 'for', 'these', 'issues', 'within', 'ACM', 'and', 'to', 'serve', 'as', 'a', 'resource', 'for', 'those', 'seeking', 'to', 'effect', 'positive', 'change', ';', 'the', 'D', '&', 'I', 'Council', 'does', 'not', 'set', 'policy', '.']\n"
     ]
    }
   ],
   "source": [
    "from nltk.tokenize import word_tokenize\n",
    "word_tk = word_tokenize(text)\n",
    "print('Word Tokenizing the text: \\n')\n",
    "print(word_tk)\n",
    "\n",
    "# it will print out an array of strings"
   ]
  },
  {
   "cell_type": "markdown",
   "metadata": {},
   "source": [
    "#### Removing stop words"
   ]
  },
  {
   "cell_type": "code",
   "execution_count": 30,
   "metadata": {},
   "outputs": [
    {
     "name": "stderr",
     "output_type": "stream",
     "text": [
      "[nltk_data] Downloading package stopwords to\n",
      "[nltk_data]     C:\\Users\\marjo\\AppData\\Roaming\\nltk_data...\n",
      "[nltk_data]   Unzipping corpora\\stopwords.zip.\n"
     ]
    },
    {
     "data": {
      "text/plain": [
       "True"
      ]
     },
     "execution_count": 30,
     "metadata": {},
     "output_type": "execute_result"
    }
   ],
   "source": [
    "nltk.download('stopwords')"
   ]
  },
  {
   "cell_type": "code",
   "execution_count": 31,
   "metadata": {},
   "outputs": [
    {
     "name": "stdout",
     "output_type": "stream",
     "text": [
      "Stop words in English language are: \n",
      "\n",
      "{'from', 'doesn', \"you're\", 'was', \"she's\", 'before', 'needn', \"hadn't\", \"you'll\", 'wasn', 'more', \"doesn't\", 'only', \"should've\", 'o', 'hasn', 'into', 'on', 've', 'whom', 'do', 'they', 'should', 'm', 'of', 'me', 'she', 'how', 'did', \"couldn't\", 'won', 'than', \"mustn't\", 'he', 'him', 'can', 'has', 'be', 'myself', 'theirs', 'over', 'are', 'will', \"you'd\", 'under', \"haven't\", 'why', 'll', 'all', 'is', 'haven', 'mustn', 'your', 'such', 'because', 'nor', 'no', 'against', 'if', 'yourselves', \"shouldn't\", 'y', 'itself', 'further', \"needn't\", 'with', 'ma', 'while', 'off', 'both', 'too', 'mightn', \"don't\", 'd', \"mightn't\", 'who', \"didn't\", 'own', \"that'll\", \"shan't\", \"wasn't\", 'what', 'it', 'where', \"aren't\", 'couldn', 'their', 'down', 'doing', 'didn', 'her', \"you've\", 'were', 'below', 'himself', 'but', 'an', 'themselves', \"wouldn't\", 'few', 'ourselves', 'the', 'yourself', 'does', 're', \"hasn't\", 'shouldn', 'some', 'through', 't', 'hadn', 'again', 'herself', 'any', 'ours', 'am', 's', 'once', \"it's\", 'had', 'we', 'having', 'during', 'there', 'other', 'shan', 'a', 'then', 'have', 'same', 'about', 'this', 'very', 'its', 'and', 'each', 'my', 'just', 'above', 'his', 'yours', 'them', 'at', 'after', 'or', 'which', 'in', 'don', 'up', 'weren', 'wouldn', 'i', 'being', 'isn', 'been', 'hers', 'that', 'for', 'when', 'here', 'not', 'to', 'as', 'between', \"won't\", 'aren', 'our', 'until', \"isn't\", 'now', \"weren't\", 'out', 'most', 'you', 'those', 'by', 'these', 'ain', 'so'}\n"
     ]
    }
   ],
   "source": [
    "from nltk.corpus import stopwords\n",
    "\n",
    "sw = set(stopwords.words('english'))\n",
    "print('Stop words in English language are: \\n')\n",
    "print(sw)"
   ]
  },
  {
   "cell_type": "code",
   "execution_count": 36,
   "metadata": {},
   "outputs": [
    {
     "name": "stdout",
     "output_type": "stream",
     "text": [
      "The text after removing stop words: \n",
      "\n",
      "['This', 'hard', 'problem', ',', 'continue', 'make', 'change', 'actively', 'seek', 'ways', 'take', 'meaningful', 'action', '.', 'The', 'Diversity', 'Inclusion', 'Council', '’', 'role', 'serve', 'convener', 'focal', 'point', 'issues', 'within', 'ACM', 'serve', 'resource', 'seeking', 'effect', 'positive', 'change', ';', 'D', '&', 'I', 'Council', 'set', 'policy', '.']\n"
     ]
    }
   ],
   "source": [
    "filtered_words = [w for w in word_tk if not w in sw]\n",
    "print('The text after removing stop words: \\n')\n",
    "print(filtered_words)"
   ]
  },
  {
   "cell_type": "markdown",
   "metadata": {},
   "source": [
    "#### Cleaning and Stemming textual data"
   ]
  },
  {
   "cell_type": "code",
   "execution_count": 33,
   "metadata": {},
   "outputs": [],
   "source": [
    "from nltk.stem import PorterStemmer\n",
    "from nltk.tokenize import sent_tokenize, word_tokenize\n",
    "\n",
    "port_stem = PorterStemmer()\n"
   ]
  },
  {
   "cell_type": "code",
   "execution_count": 37,
   "metadata": {},
   "outputs": [
    {
     "name": "stdout",
     "output_type": "stream",
     "text": [
      "Filtered sentence: \n",
      " ['This', 'hard', 'problem', ',', 'continue', 'make', 'change', 'actively', 'seek', 'ways', 'take', 'meaningful', 'action', '.', 'The', 'Diversity', 'Inclusion', 'Council', '’', 'role', 'serve', 'convener', 'focal', 'point', 'issues', 'within', 'ACM', 'serve', 'resource', 'seeking', 'effect', 'positive', 'change', ';', 'D', '&', 'I', 'Council', 'set', 'policy', '.'] \n",
      "\n",
      "Stemmed Sentence: \n",
      " ['thi', 'hard', 'problem', ',', 'continu', 'make', 'chang', 'activ', 'seek', 'way', 'take', 'meaning', 'action', '.', 'the', 'divers', 'inclus', 'council', '’', 'role', 'serv', 'conven', 'focal', 'point', 'issu', 'within', 'acm', 'serv', 'resourc', 'seek', 'effect', 'posit', 'chang', ';', 'D', '&', 'I', 'council', 'set', 'polici', '.']\n"
     ]
    }
   ],
   "source": [
    "stemmed_words = []\n",
    "\n",
    "for w in filtered_words:\n",
    "    stemmed_words.append(port_stem.stem(w))\n",
    "    \n",
    "print('Filtered sentence: \\n', filtered_words, '\\n')\n",
    "print('Stemmed Sentence: \\n', stemmed_words)"
   ]
  },
  {
   "cell_type": "markdown",
   "metadata": {},
   "source": [
    "### Lemmatizing"
   ]
  },
  {
   "cell_type": "code",
   "execution_count": 38,
   "metadata": {},
   "outputs": [
    {
     "name": "stderr",
     "output_type": "stream",
     "text": [
      "[nltk_data] Downloading package wordnet to\n",
      "[nltk_data]     C:\\Users\\marjo\\AppData\\Roaming\\nltk_data...\n",
      "[nltk_data]   Unzipping corpora\\wordnet.zip.\n"
     ]
    },
    {
     "data": {
      "text/plain": [
       "True"
      ]
     },
     "execution_count": 38,
     "metadata": {},
     "output_type": "execute_result"
    }
   ],
   "source": [
    "nltk.download('wordnet')"
   ]
  },
  {
   "cell_type": "code",
   "execution_count": 40,
   "metadata": {},
   "outputs": [
    {
     "name": "stdout",
     "output_type": "stream",
     "text": [
      "['This', 'hard', 'problem', ',', 'continue', 'make', 'change', 'actively', 'seek', 'way', 'take', 'meaningful', 'action', '.', 'The', 'Diversity', 'Inclusion', 'Council', '’', 'role', 'serve', 'convener', 'focal', 'point', 'issue', 'within', 'ACM', 'serve', 'resource', 'seeking', 'effect', 'positive', 'change', ';', 'D', '&', 'I', 'Council', 'set', 'policy', '.']\n"
     ]
    }
   ],
   "source": [
    "from nltk.stem.wordnet import WordNetLemmatizer\n",
    "\n",
    "lem = WordNetLemmatizer()\n",
    "\n",
    "from nltk.stem.porter import PorterStemmer\n",
    "stem = PorterStemmer()\n",
    "\n",
    "lemm_words = []\n",
    "\n",
    "for w in range(len(filtered_words)):\n",
    "    lemm_words.append(lem.lemmatize(filtered_words[w]))\n",
    "print(lemm_words)"
   ]
  },
  {
   "cell_type": "markdown",
   "metadata": {},
   "source": [
    "#### Parts of Speech Tagging"
   ]
  },
  {
   "cell_type": "code",
   "execution_count": 41,
   "metadata": {},
   "outputs": [
    {
     "name": "stderr",
     "output_type": "stream",
     "text": [
      "[nltk_data] Downloading package averaged_perceptron_tagger to\n",
      "[nltk_data]     C:\\Users\\marjo\\AppData\\Roaming\\nltk_data...\n",
      "[nltk_data]   Unzipping taggers\\averaged_perceptron_tagger.zip.\n"
     ]
    },
    {
     "data": {
      "text/plain": [
       "True"
      ]
     },
     "execution_count": 41,
     "metadata": {},
     "output_type": "execute_result"
    }
   ],
   "source": [
    "nltk.download('averaged_perceptron_tagger')"
   ]
  },
  {
   "cell_type": "code",
   "execution_count": 42,
   "metadata": {},
   "outputs": [
    {
     "name": "stdout",
     "output_type": "stream",
     "text": [
      "[('This', 'DT'), ('is', 'VBZ'), ('a', 'DT'), ('hard', 'JJ'), ('problem', 'NN'), (',', ','), ('and', 'CC'), ('we', 'PRP'), ('will', 'MD'), ('continue', 'VB'), ('to', 'TO'), ('make', 'VB'), ('change', 'NN'), ('and', 'CC'), ('actively', 'RB'), ('seek', 'JJ'), ('ways', 'NNS'), ('to', 'TO'), ('take', 'VB'), ('meaningful', 'JJ'), ('action', 'NN'), ('.', '.'), ('The', 'DT'), ('Diversity', 'NNP'), ('and', 'CC'), ('Inclusion', 'NNP'), ('Council', 'NNP'), ('’', 'NNP'), ('s', 'JJ'), ('role', 'NN'), ('is', 'VBZ'), ('to', 'TO'), ('serve', 'VB'), ('as', 'IN'), ('a', 'DT'), ('convener', 'NN'), ('and', 'CC'), ('focal', 'JJ'), ('point', 'NN'), ('for', 'IN'), ('these', 'DT'), ('issues', 'NNS'), ('within', 'IN'), ('ACM', 'NNP'), ('and', 'CC'), ('to', 'TO'), ('serve', 'VB'), ('as', 'IN'), ('a', 'DT'), ('resource', 'NN'), ('for', 'IN'), ('those', 'DT'), ('seeking', 'VBG'), ('to', 'TO'), ('effect', 'NN'), ('positive', 'JJ'), ('change', 'NN'), (';', ':'), ('the', 'DT'), ('D', 'NNP'), ('&', 'CC'), ('I', 'PRP'), ('Council', 'NNP'), ('does', 'VBZ'), ('not', 'RB'), ('set', 'VBN'), ('policy', 'NN'), ('.', '.')]\n"
     ]
    }
   ],
   "source": [
    "from nltk import pos_tag\n",
    "pos_tagged_words = pos_tag(word_tk)\n",
    "\n",
    "print(pos_tagged_words)\n"
   ]
  },
  {
   "cell_type": "markdown",
   "metadata": {},
   "source": [
    "#### Frequency Distribution Plots"
   ]
  },
  {
   "cell_type": "code",
   "execution_count": 43,
   "metadata": {},
   "outputs": [
    {
     "name": "stdout",
     "output_type": "stream",
     "text": [
      "<FreqDist with 51 samples and 68 outcomes>\n"
     ]
    }
   ],
   "source": [
    "from nltk.probability import FreqDist\n",
    "fd = FreqDist(word_tk)\n",
    "\n",
    "print(fd)"
   ]
  },
  {
   "cell_type": "code",
   "execution_count": 47,
   "metadata": {},
   "outputs": [
    {
     "data": {
      "image/png": "[encoded data removed]",
      "text/plain": [
       "<Figure size 432x288 with 1 Axes>"
      ]
     },
     "metadata": {
      "needs_background": "light"
     },
     "output_type": "display_data"
    }
   ],
   "source": [
    "import matplotlib.pyplot as plt\n",
    "\n",
    "fd.plot(30, cumulative=False)\n",
    "plt.show()\n",
    "\n",
    "# you would see the highest words that are frequently showing up. this is why stop words needs to be removed"
   ]
  },
  {
   "cell_type": "code",
   "execution_count": null,
   "metadata": {},
   "outputs": [],
   "source": []
  }
 ],
 "metadata": {
  "kernelspec": {
   "display_name": "Python 3",
   "language": "python",
   "name": "python3"
  },
  "language_info": {
   "codemirror_mode": {
    "name": "ipython",
    "version": 3
   },
   "file_extension": ".py",
   "mimetype": "text/x-python",
   "name": "python",
   "nbconvert_exporter": "python",
   "pygments_lexer": "ipython3",
   "version": "3.7.4"
  }
 },
 "nbformat": 4,
 "nbformat_minor": 2
}
